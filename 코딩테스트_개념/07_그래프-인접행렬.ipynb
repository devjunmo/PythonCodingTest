{
 "cells": [
  {
   "cell_type": "markdown",
   "metadata": {},
   "source": [
    "# 그래프 - 인접 행렬\n",
    "\n",
    "- 인접 행렬 받기\n",
    "  - 입력이 인접 행렬로 올 때\n",
    "  - V가 매우 작아 구현의 편의를 챙기고 싶을 때\n",
    "  - 플로이드 쓸 때\n",
    "- 그래프 탐색\n",
    "  - BFS\n",
    "    - 일반적인 bfs\n",
    "    - dist 배열 활용\n",
    "    - 끊어진 그래프일때\n",
    "  - DFS"
   ]
  },
  {
   "cell_type": "markdown",
   "metadata": {},
   "source": [
    "## 인접 행렬 받기"
   ]
  },
  {
   "cell_type": "markdown",
   "metadata": {},
   "source": [
    "> 2차원 배열 받기"
   ]
  },
  {
   "cell_type": "code",
   "execution_count": 2,
   "metadata": {},
   "outputs": [
    {
     "name": "stdout",
     "output_type": "stream",
     "text": [
      "[[1, 2, 3], [4, 2, 1], [2, 2, 2]]\n"
     ]
    }
   ],
   "source": [
    "N = 3\n",
    "arr_2x = []\n",
    "\n",
    "for _ in range(N):\n",
    "    arr_2x.append([arr for arr in list(map(int, input().split()))])\n",
    "\n",
    "print(arr_2x)"
   ]
  },
  {
   "cell_type": "markdown",
   "metadata": {},
   "source": [
    "> 간선 정보로 올 때 입력받기"
   ]
  },
  {
   "cell_type": "code",
   "execution_count": 10,
   "metadata": {},
   "outputs": [
    {
     "data": {
      "text/plain": [
       "[[0, 1, 1], [1, 0, 0], [1, 0, 0]]"
      ]
     },
     "execution_count": 10,
     "metadata": {},
     "output_type": "execute_result"
    }
   ],
   "source": [
    "N = 3 # 3x3이라 가정\n",
    "M = 3\n",
    "\n",
    "R = 2 # 간선 정보는 2회에 걸쳐 온다고 가정\n",
    "\n",
    "# 0,1 / 0,2\n",
    "\n",
    "arr_2x = [[0] * M for _ in range(N)] # 0으로 2차원 배열 초기화\n",
    "\n",
    "for _ in range(R):\n",
    "    st, ed = list(map(int, input().split(',')))\n",
    "    arr_2x[st][ed] = 1\n",
    "    arr_2x[ed][st] = 1 # 양방향\n",
    "\n",
    "arr_2x\n"
   ]
  },
  {
   "cell_type": "markdown",
   "metadata": {},
   "source": [
    "## 그래프 탐색하기"
   ]
  },
  {
   "cell_type": "markdown",
   "metadata": {},
   "source": [
    "> BFS로 탐색하기"
   ]
  },
  {
   "cell_type": "code",
   "execution_count": null,
   "metadata": {},
   "outputs": [],
   "source": [
    "from collections import deque\n",
    "\n",
    "def bfs(adj_matrix, start_node):\n",
    "    # initialize the queue and visited set\n",
    "    queue = deque([start_node])\n",
    "    visited = set([start_node])\n",
    "    \n",
    "    # loop until the queue is empty\n",
    "    while queue:\n",
    "        # dequeue a node from the front of the queue\n",
    "        node = queue.popleft()\n",
    "        \n",
    "        # process the node\n",
    "        print(node)\n",
    "        \n",
    "        # add unvisited neighbors to the queue and visited set\n",
    "        for neighbor, e in enumerate(adj_matrix[node]):\n",
    "            if e == 1 and neighbor not in visited:\n",
    "                queue.append(neighbor)\n",
    "                visited.add(neighbor)\n"
   ]
  }
 ],
 "metadata": {
  "kernelspec": {
   "display_name": "Python 3.9.6 64-bit",
   "language": "python",
   "name": "python3"
  },
  "language_info": {
   "codemirror_mode": {
    "name": "ipython",
    "version": 3
   },
   "file_extension": ".py",
   "mimetype": "text/x-python",
   "name": "python",
   "nbconvert_exporter": "python",
   "pygments_lexer": "ipython3",
   "version": "3.9.6"
  },
  "orig_nbformat": 4,
  "vscode": {
   "interpreter": {
    "hash": "31f2aee4e71d21fbe5cf8b01ff0e069b9275f58929596ceb00d14d90e3e16cd6"
   }
  }
 },
 "nbformat": 4,
 "nbformat_minor": 2
}
