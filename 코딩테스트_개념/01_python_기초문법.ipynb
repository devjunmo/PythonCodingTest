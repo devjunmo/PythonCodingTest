{
 "cells": [
  {
   "cell_type": "markdown",
   "metadata": {},
   "source": [
    "# python 기초문법"
   ]
  },
  {
   "cell_type": "markdown",
   "metadata": {},
   "source": [
    "## 빠른 입출력"
   ]
  },
  {
   "cell_type": "markdown",
   "metadata": {},
   "source": [
    "- 입력: sys.stdin.readline().strip()\n",
    "- 출력: print()"
   ]
  },
  {
   "cell_type": "code",
   "execution_count": 1,
   "metadata": {},
   "outputs": [
    {
     "ename": "ValueError",
     "evalue": "invalid literal for int() with base 10: ''",
     "output_type": "error",
     "traceback": [
      "\u001b[0;31m---------------------------------------------------------------------------\u001b[0m",
      "\u001b[0;31mValueError\u001b[0m                                Traceback (most recent call last)",
      "Cell \u001b[0;32mIn[1], line 8\u001b[0m\n\u001b[1;32m      5\u001b[0m T\u001b[38;5;241m=\u001b[39m\u001b[38;5;28mint\u001b[39m(\u001b[38;5;28minput\u001b[39m())\n\u001b[1;32m      7\u001b[0m \u001b[38;5;28;01mfor\u001b[39;00m i \u001b[38;5;129;01min\u001b[39;00m \u001b[38;5;28mrange\u001b[39m(\u001b[38;5;241m0\u001b[39m, T):\n\u001b[0;32m----> 8\u001b[0m     A, B \u001b[38;5;241m=\u001b[39m \u001b[38;5;28mmap\u001b[39m(\u001b[38;5;28mint\u001b[39m, sys\u001b[38;5;241m.\u001b[39mstdin\u001b[38;5;241m.\u001b[39mreadline()\u001b[38;5;241m.\u001b[39msplit(\u001b[38;5;124m'\u001b[39m\u001b[38;5;124m \u001b[39m\u001b[38;5;124m'\u001b[39m))\n\u001b[1;32m      9\u001b[0m     \u001b[38;5;28mprint\u001b[39m(A\u001b[38;5;241m+\u001b[39mB)\n",
      "\u001b[0;31mValueError\u001b[0m: invalid literal for int() with base 10: ''"
     ]
    }
   ],
   "source": [
    "# BOJ 빠른 A+B 문제\n",
    "\n",
    "import sys\n",
    "\n",
    "T=int(input())\n",
    "\n",
    "for i in range(0, T):\n",
    "    A, B = map(int, sys.stdin.readline().split(' '))\n",
    "    print(A+B)"
   ]
  },
  {
   "cell_type": "markdown",
   "metadata": {},
   "source": [
    "> 출력\n",
    "\n",
    "#### join()을 통해 리스트를 원하는 형태로 출력, 그냥 리스트 출력과 시간상 별 차이 없음\n",
    "\n",
    "```python\n",
    "import time\n",
    "\n",
    "numbers = list(range(100000))\n",
    "start_time = time.time()\n",
    "print(' '.join(map(str, numbers)))\n",
    "end_time = time.time()\n",
    "print_time = end_time - start_time\n",
    "print(\"print() time: \", print_time) # print() time:  0.1915290355682373\n",
    "```"
   ]
  },
  {
   "cell_type": "markdown",
   "metadata": {},
   "source": [
    "## input 받기\n",
    "\n",
    "- 하나 받기\n",
    "- ABCD 받기\n",
    "- 1 2 3 4 받기\n",
    "- 2차원 배열 받기"
   ]
  },
  {
   "cell_type": "code",
   "execution_count": 5,
   "metadata": {},
   "outputs": [
    {
     "data": {
      "text/plain": [
       "10"
      ]
     },
     "execution_count": 5,
     "metadata": {},
     "output_type": "execute_result"
    }
   ],
   "source": [
    "N = int(input())\n",
    "N"
   ]
  },
  {
   "cell_type": "markdown",
   "metadata": {},
   "source": [
    "> 1차원 배열 받기"
   ]
  },
  {
   "cell_type": "code",
   "execution_count": 6,
   "metadata": {},
   "outputs": [
    {
     "data": {
      "text/plain": [
       "['A', 'B', 'C', 'D']"
      ]
     },
     "execution_count": 6,
     "metadata": {},
     "output_type": "execute_result"
    }
   ],
   "source": [
    "STR_LST = [x for x in input()]\n",
    "STR_LST"
   ]
  },
  {
   "cell_type": "code",
   "execution_count": 7,
   "metadata": {},
   "outputs": [
    {
     "data": {
      "text/plain": [
       "[1, 2, 3, 4]"
      ]
     },
     "execution_count": 7,
     "metadata": {},
     "output_type": "execute_result"
    }
   ],
   "source": [
    "# 1 2 3 4\n",
    "NUM_LST = list(map(int, input().split(' ')))\n",
    "NUM_LST"
   ]
  },
  {
   "cell_type": "markdown",
   "metadata": {},
   "source": [
    "> 1차원 배열 빠르게 받기"
   ]
  },
  {
   "cell_type": "code",
   "execution_count": 12,
   "metadata": {},
   "outputs": [
    {
     "data": {
      "text/plain": [
       "[]"
      ]
     },
     "execution_count": 12,
     "metadata": {},
     "output_type": "execute_result"
    }
   ],
   "source": [
    "import sys\n",
    "\n",
    "LST = list(map(int, sys.stdin.readline().split()))\n",
    "\n",
    "LST"
   ]
  },
  {
   "cell_type": "markdown",
   "metadata": {},
   "source": [
    "> 2차원배열 input()으로 받기"
   ]
  },
  {
   "cell_type": "code",
   "execution_count": 1,
   "metadata": {},
   "outputs": [
    {
     "name": "stdout",
     "output_type": "stream",
     "text": [
      "[1, 2, 3, 4]\n",
      "[1, 2, 3, 4]\n",
      "[]\n"
     ]
    }
   ],
   "source": [
    "import sys\n",
    "N = 3\n",
    "\n",
    "# Taking input using list comprehension\n",
    "arr = [list(map(int, input().split())) for _ in range(N)]\n",
    "\n",
    "# printing the array\n",
    "for row in arr:\n",
    "    print(row)\n"
   ]
  },
  {
   "cell_type": "markdown",
   "metadata": {},
   "source": [
    "> 2차원 배열 빠르게 받기 -> 코테에서 ctrl+z를 안눌러주기 때문에 readlines()로 하는 컴프리핸션은 불가"
   ]
  },
  {
   "cell_type": "code",
   "execution_count": 2,
   "metadata": {},
   "outputs": [],
   "source": [
    "import sys\n",
    "N = 3\n",
    "\n",
    "# Using sys.stdin.readline() to get a 2D array\n",
    "arr = []\n",
    "for i in range(3):\n",
    "    row = list(map(int, sys.stdin.readline().split()))\n",
    "    arr.append(row)\n"
   ]
  },
  {
   "cell_type": "markdown",
   "metadata": {},
   "source": [
    "## 리스트로 만들어서 빠르게 출력하기\n",
    "\n",
    "- case1: 공백으로 출력하기\n",
    "- case2: \\n로 출력하기\n",
    "\n",
    "case1이 2보다 빠르다"
   ]
  },
  {
   "cell_type": "code",
   "execution_count": 3,
   "metadata": {},
   "outputs": [
    {
     "name": "stdout",
     "output_type": "stream",
     "text": [
      "0 1 2 3 4 5 6 7 8 9\n",
      "0\n",
      "1\n",
      "2\n",
      "3\n",
      "4\n",
      "5\n",
      "6\n",
      "7\n",
      "8\n",
      "9\n"
     ]
    }
   ],
   "source": [
    "numbers = list(range(10))\n",
    "\n",
    "\n",
    "print(' '.join(map(str, numbers)))\n",
    "\n",
    "print('\\n'.join(map(str, numbers)))\n",
    "\n"
   ]
  },
  {
   "cell_type": "markdown",
   "metadata": {},
   "source": [
    "## 기본 자료형\n",
    "- 자료형 최댓값\n",
    "- 지수승 표현\n",
    "- 정밀도 문제\n",
    "- 주요 연산"
   ]
  },
  {
   "cell_type": "markdown",
   "metadata": {},
   "source": [
    "#### 자료형 최댓값"
   ]
  },
  {
   "cell_type": "markdown",
   "metadata": {},
   "source": [
    "> int, float 최대값"
   ]
  },
  {
   "cell_type": "code",
   "execution_count": 4,
   "metadata": {},
   "outputs": [
    {
     "data": {
      "text/plain": [
       "1.7976931348623157e+308"
      ]
     },
     "execution_count": 4,
     "metadata": {},
     "output_type": "execute_result"
    }
   ],
   "source": [
    "import sys\n",
    "max_int_value = sys.maxsize # 9223372036854775807\n",
    "max_int_value\n",
    "\n",
    "max_float_value = sys.float_info.max\n",
    "max_float_value # 1.7976931348623157e+308"
   ]
  },
  {
   "cell_type": "markdown",
   "metadata": {},
   "source": [
    "> 지수승 표현"
   ]
  },
  {
   "cell_type": "code",
   "execution_count": 5,
   "metadata": {},
   "outputs": [
    {
     "name": "stdout",
     "output_type": "stream",
     "text": [
      "20000000000.0\n",
      "20000000000\n"
     ]
    }
   ],
   "source": [
    "print(2e10)\n",
    "print(int(2e10))"
   ]
  },
  {
   "cell_type": "markdown",
   "metadata": {},
   "source": [
    ">정밀도 문제 -> round로 해결 \n",
    "\n",
    ">> Round a number to 2 decimal places\n",
    "```python\n",
    "x = 3.14159\n",
    "rounded_x = round(x, 2)\n",
    "print(rounded_x)  # Output: 3.14\n",
    "```\n",
    "\n",
    ">> Round a number to 0 decimal places\n",
    "```python\n",
    "y = 5.6789\n",
    "rounded_y = round(y)\n",
    "print(rounded_y)  # Output: 6\n",
    "```\n"
   ]
  },
  {
   "cell_type": "markdown",
   "metadata": {},
   "source": [
    "> 주요 연산"
   ]
  },
  {
   "cell_type": "code",
   "execution_count": 6,
   "metadata": {},
   "outputs": [
    {
     "name": "stdout",
     "output_type": "stream",
     "text": [
      "4%2 =  0\n",
      "4//2 =  2\n",
      "2**2 =  4\n",
      "2**0.5 =  1.4142135623730951\n"
     ]
    }
   ],
   "source": [
    "print('4%2 = ', 4%2)  # 나머지 연산자는 정수 리턴 -> 4%2 =  0\n",
    "print('4//2 = ', 4//2)  # 몫 연산자는 정수 리턴\n",
    "print('2**2 = ', 2**2)  # 거듭제곱\n",
    "print('2**0.5 = ', 2**0.5)  # 제곱근\n"
   ]
  },
  {
   "cell_type": "markdown",
   "metadata": {},
   "source": [
    "# 객체 만들기"
   ]
  },
  {
   "cell_type": "markdown",
   "metadata": {},
   "source": [
    "> 커스텀 클래스 객체 찍기"
   ]
  },
  {
   "cell_type": "code",
   "execution_count": 7,
   "metadata": {},
   "outputs": [
    {
     "name": "stdout",
     "output_type": "stream",
     "text": [
      "John\n",
      "25\n"
     ]
    }
   ],
   "source": [
    "class Person:\n",
    "    def __init__(self, name, age):\n",
    "        self.name = name\n",
    "        self.age = age\n",
    "\n",
    "person1 = Person(\"John\", 25)\n",
    "print(person1.name)  # Output: John\n",
    "print(person1.age)   # Output: 25\n"
   ]
  },
  {
   "cell_type": "markdown",
   "metadata": {},
   "source": [
    ">> (참고) toString 역할을 하는 __str__(self)"
   ]
  },
  {
   "cell_type": "code",
   "execution_count": 8,
   "metadata": {},
   "outputs": [
    {
     "name": "stdout",
     "output_type": "stream",
     "text": [
      "The Great Gatsby by F. Scott Fitzgerald, 180 pages\n"
     ]
    }
   ],
   "source": [
    "class Book:\n",
    "    def __init__(self, title, author, pages):\n",
    "        self.title = title\n",
    "        self.author = author\n",
    "        self.pages = pages\n",
    "    \n",
    "    def __str__(self):\n",
    "        return f\"{self.title} by {self.author}, {self.pages} pages\"\n",
    "\n",
    "book1 = Book(\"The Great Gatsby\", \"F. Scott Fitzgerald\", 180)\n",
    "print(book1)  # Output: The Great Gatsby by F. Scott Fitzgerald, 180 pages\n"
   ]
  },
  {
   "cell_type": "markdown",
   "metadata": {},
   "source": [
    "> javascript 처럼 중괄호로 생성하기 -> 사실 딕셔너리임"
   ]
  },
  {
   "cell_type": "code",
   "execution_count": 9,
   "metadata": {},
   "outputs": [
    {
     "name": "stdout",
     "output_type": "stream",
     "text": [
      "{'name': 'yjm', 'age': 20}\n"
     ]
    },
    {
     "data": {
      "text/plain": [
       "dict"
      ]
     },
     "execution_count": 9,
     "metadata": {},
     "output_type": "execute_result"
    }
   ],
   "source": [
    "test = {\"name\":\"yjm\", \"age\":20}\n",
    "print(test) # {'name': 'yjm', 'age': 20}\n",
    "type(test) # dict"
   ]
  },
  {
   "cell_type": "markdown",
   "metadata": {},
   "source": [
    "## 비교\n",
    "- ==과 is의 차이\n",
    "  - For built-in objects such as lists, dictionaries, and sets, == compares the contents of the objects.\n",
    "  - However, for user-defined objects such as the Person class in my previous example, the default behavior of == is to compare the object identities."
   ]
  },
  {
   "cell_type": "code",
   "execution_count": 1,
   "metadata": {},
   "outputs": [
    {
     "name": "stdout",
     "output_type": "stream",
     "text": [
      "True\n",
      "False\n",
      "True\n"
     ]
    }
   ],
   "source": [
    "a = [1, 2, 3]\n",
    "b = [1, 2, 3]\n",
    "c = a\n",
    "\n",
    "print(a == b)  # True, because the content of a and b is the same\n",
    "print(a is b)  # False, because a and b are different objects in memory\n",
    "print(a is c)  # True, because a and c are the same object in memory\n"
   ]
  },
  {
   "cell_type": "code",
   "execution_count": 2,
   "metadata": {},
   "outputs": [
    {
     "name": "stdout",
     "output_type": "stream",
     "text": [
      "False\n",
      "True\n",
      "False\n",
      "True\n"
     ]
    }
   ],
   "source": [
    "class Person:\n",
    "    def __init__(self, name, age):\n",
    "        self.name = name\n",
    "        self.age = age\n",
    "\n",
    "p1 = Person('John', 30)\n",
    "p2 = Person('John', 30)\n",
    "p3 = p1\n",
    "\n",
    "print(p1 is p2)   # False\n",
    "print(p1 is p3)   # True\n",
    "print(p1 == p2)   # False\n",
    "print(p1 == p3)   # True\n"
   ]
  },
  {
   "cell_type": "markdown",
   "metadata": {},
   "source": [
    "### 깊은 복사"
   ]
  },
  {
   "cell_type": "markdown",
   "metadata": {},
   "source": [
    "> 1차원 배열 깊은복사"
   ]
  },
  {
   "cell_type": "code",
   "execution_count": 2,
   "metadata": {},
   "outputs": [
    {
     "name": "stdout",
     "output_type": "stream",
     "text": [
      "False\n"
     ]
    }
   ],
   "source": [
    "original_list = [1, 2, 3, 4, 5]\n",
    "\n",
    "# Using the copy() method\n",
    "new_list = original_list.copy()\n",
    "\n",
    "print(original_list is new_list) # False\n",
    "\n"
   ]
  },
  {
   "cell_type": "markdown",
   "metadata": {},
   "source": [
    "> 2차원 배열 깊은복사"
   ]
  },
  {
   "cell_type": "code",
   "execution_count": 3,
   "metadata": {},
   "outputs": [
    {
     "name": "stdout",
     "output_type": "stream",
     "text": [
      "False\n",
      "False\n"
     ]
    }
   ],
   "source": [
    "original_list = [[1, 2], [3, 4], [5, 6]]\n",
    "\n",
    "# Using the copy() method and a nested list comprehension\n",
    "new_list = [sublist.copy() for sublist in original_list]\n",
    "\n",
    "print(original_list is new_list) # False\n",
    "print(original_list[0] is new_list[0]) # False\n"
   ]
  },
  {
   "cell_type": "markdown",
   "metadata": {},
   "source": [
    "> 삼항연산자"
   ]
  },
  {
   "cell_type": "code",
   "execution_count": 1,
   "metadata": {},
   "outputs": [
    {
     "data": {
      "text/plain": [
       "[1, 3, 4]"
      ]
     },
     "execution_count": 1,
     "metadata": {},
     "output_type": "execute_result"
    }
   ],
   "source": [
    "input_arr = [1, 2, 3, 4, 5]\n",
    "subset_vis = [True, False, True, True, False]\n",
    "\n",
    "filtered_arr = [input_arr[i] for i in range(len(input_arr)) if subset_vis[i]]\n",
    "filtered_arr"
   ]
  },
  {
   "cell_type": "code",
   "execution_count": null,
   "metadata": {},
   "outputs": [],
   "source": []
  }
 ],
 "metadata": {
  "kernelspec": {
   "display_name": "Python 3.8.13 ('codingTest')",
   "language": "python",
   "name": "python3"
  },
  "language_info": {
   "codemirror_mode": {
    "name": "ipython",
    "version": 3
   },
   "file_extension": ".py",
   "mimetype": "text/x-python",
   "name": "python",
   "nbconvert_exporter": "python",
   "pygments_lexer": "ipython3",
   "version": "3.8.13"
  },
  "orig_nbformat": 4,
  "vscode": {
   "interpreter": {
    "hash": "e80ad6e6ae2ebc2bd866c1164dc14db38d4e1b9d88135697e21f1ea5268c05b6"
   }
  }
 },
 "nbformat": 4,
 "nbformat_minor": 2
}
