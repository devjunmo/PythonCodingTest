{
 "cells": [
  {
   "cell_type": "markdown",
   "metadata": {},
   "source": [
    "# Python collections\n",
    "\n"
   ]
  },
  {
   "cell_type": "markdown",
   "metadata": {},
   "source": [
    "#### Lists\n",
    "- Description: Lists are ordered sequences of elements, which can be of any type, and are mutable.\n",
    "- Frequently used methods: append(), extend(), insert(), remove(), pop(), index(), count(), sort(), reverse()\n",
    "\n",
    "#### Tuples\n",
    "- Description: Tuples are ordered sequences of elements, which can be of any type, and are immutable.\n",
    "- Frequently used methods: index(), count()\n",
    "\n",
    "#### Sets\n",
    "- Description: Sets are unordered collections of unique elements, which can be of any type, and are mutable.\n",
    "- Frequently used methods: add(), remove(), pop(), clear(), union(), intersection(), difference(), symmetric_difference(), issubset(), issuperset(), isdisjoint()\n",
    "\n",
    "#### Dictionaries\n",
    "- Description: Dictionaries are unordered collections of key-value pairs, where keys are unique and immutable, and values can be of any type. They are mutable.\n",
    "- Frequently used methods: keys(), values(), items(), get(), setdefault(), update(), pop(), clear()\n",
    "\n",
    "#### Deque\n",
    "- Description: Deque is a double-ended queue that supports adding and removing elements from both ends efficiently. It is implemented using a doubly linked list.\n",
    "- Frequently used methods: append(), appendleft(), pop(), popleft(), extend(), extendleft(), rotate(), clear(), count(), remove()\n",
    "\n",
    "#### Defaultdict\n",
    "- Description: Defaultdict is a subclass of the built-in dict class. It is a dictionary that automatically initializes new keys with a default value if they don't already exist.\n",
    "- Frequently used methods: all the methods of dict class, plus the ability to specify a default_factory to create a default value for missing keys.\n",
    "\n",
    "#### Counter\n",
    "- Description: Counter is a subclass of the built-in dict class. It is used to count occurrences of elements in a list or any other iterable.\n",
    "- Frequently used methods: most_common(), subtract(), update(), elements()"
   ]
  },
  {
   "cell_type": "markdown",
   "metadata": {},
   "source": [
    "> List"
   ]
  },
  {
   "cell_type": "code",
   "execution_count": 1,
   "metadata": {},
   "outputs": [
    {
     "name": "stdout",
     "output_type": "stream",
     "text": [
      "[1, 2, 3, 4, 5, 6]\n",
      "[1, 2, 3, 4, 5, 6, 7, 8, 9]\n",
      "[1, 2, 3, 10, 4, 5, 6, 7, 8, 9]\n",
      "[1, 2, 3, 10, 4, 6, 7, 8, 9]\n",
      "9\n",
      "[1, 2, 3, 10, 4, 6, 7, 8]\n",
      "4\n",
      "1\n",
      "[1, 2, 3, 4, 6, 7, 8, 10]\n",
      "[10, 8, 7, 6, 4, 3, 2, 1]\n"
     ]
    }
   ],
   "source": [
    "# Example list\n",
    "my_list = [1, 2, 3, 4, 5]\n",
    "\n",
    "# Append an element to the end of the list\n",
    "my_list.append(6)\n",
    "print(my_list)  # Output: [1, 2, 3, 4, 5, 6]\n",
    "\n",
    "# Extend the list with another iterable\n",
    "my_list.extend([7, 8, 9])\n",
    "print(my_list)  # Output: [1, 2, 3, 4, 5, 6, 7, 8, 9]\n",
    "\n",
    "# Insert an element at a specific position\n",
    "my_list.insert(3, 10)\n",
    "print(my_list)  # Output: [1, 2, 3, 10, 4, 5, 6, 7, 8, 9]\n",
    "\n",
    "# Remove an element from the list\n",
    "my_list.remove(5)\n",
    "print(my_list)  # Output: [1, 2, 3, 10, 4, 6, 7, 8, 9]\n",
    "\n",
    "# Remove and return the last element of the list\n",
    "last_element = my_list.pop()\n",
    "print(last_element)  # Output: 9\n",
    "print(my_list)  # Output: [1, 2, 3, 10, 4, 6, 7, 8]\n",
    "\n",
    "# Get the index of an element in the list\n",
    "index = my_list.index(4)\n",
    "print(index)  # Output: 4\n",
    "\n",
    "# Count the number of occurrences of an element in the list\n",
    "count = my_list.count(3)\n",
    "print(count)  # Output: 1\n",
    "\n",
    "# Sort the list in ascending order\n",
    "my_list.sort()\n",
    "print(my_list)  # Output: [1, 2, 3, 4, 6, 7, 8, 10]\n",
    "\n",
    "# Reverse the order of the list\n",
    "my_list.reverse()\n",
    "print(my_list)  # Output: [10, 8, 7, 6, 4, 3, 2, 1]\n"
   ]
  },
  {
   "cell_type": "markdown",
   "metadata": {},
   "source": [
    "> tuple"
   ]
  },
  {
   "cell_type": "code",
   "execution_count": 2,
   "metadata": {},
   "outputs": [
    {
     "name": "stdout",
     "output_type": "stream",
     "text": [
      "2\n",
      "1\n",
      "1\n"
     ]
    }
   ],
   "source": [
    "# Example tuple\n",
    "my_tuple = (1, 2, 3, 4, 5)\n",
    "\n",
    "# Get the index of an element in the tuple\n",
    "index = my_tuple.index(3)\n",
    "print(index)  # Output: 2\n",
    "\n",
    "# Count the number of occurrences of an element in the tuple\n",
    "count = my_tuple.count(5)\n",
    "print(count)  # Output: 1\n",
    "\n",
    "print(my_tuple[0]) # 1"
   ]
  },
  {
   "cell_type": "markdown",
   "metadata": {},
   "source": [
    "> set"
   ]
  },
  {
   "cell_type": "code",
   "execution_count": 3,
   "metadata": {},
   "outputs": [
    {
     "name": "stdout",
     "output_type": "stream",
     "text": [
      "{1, 2, 3, 4, 5}\n",
      "{1, 2, 3, 5}\n",
      "1\n",
      "{2, 3, 5}\n",
      "{2, 3, 4, 5, 6}\n",
      "{3, 5}\n",
      "{2}\n",
      "{2, 4, 6}\n",
      "True\n",
      "True\n",
      "False\n",
      "True\n"
     ]
    }
   ],
   "source": [
    "# Create two sets\n",
    "set1 = {1, 2, 3, 4}\n",
    "set2 = {3, 4, 5, 6}\n",
    "\n",
    "# Add an element to the set\n",
    "set1.add(5)\n",
    "print(set1)  # Output: {1, 2, 3, 4, 5}\n",
    "\n",
    "# Remove an element from the set\n",
    "set1.remove(4)\n",
    "print(set1)  # Output: {1, 2, 3, 5}\n",
    "\n",
    "# Remove and return an arbitrary element from the set\n",
    "element = set1.pop()\n",
    "print(element)  # Output: 1\n",
    "print(set1)  # Output: {2, 3, 5}\n",
    "\n",
    "# Create a union of two sets\n",
    "union_set = set1.union(set2)\n",
    "print(union_set)  # Output: {2, 3, 4, 5, 6}\n",
    "\n",
    "# Create an intersection of two sets\n",
    "intersection_set = set1.intersection(set2)\n",
    "print(intersection_set)  # Output: {3, 5}\n",
    "\n",
    "# Create a difference between two sets (차집합)\n",
    "difference_set = set1.difference(set2)\n",
    "print(difference_set)  # Output: {2}\n",
    "\n",
    "# Create a symmetric difference between two sets (교집합 제외)\n",
    "symmetric_difference_set = set1.symmetric_difference(set2)\n",
    "print(symmetric_difference_set)  # Output: {2, 4, 6}\n",
    "\n",
    "# Check if a set is a subset of another set\n",
    "subset = {3, 4}\n",
    "print(subset.issubset(set2))  # Output: True\n",
    "\n",
    "# Check if a set is a superset of another set\n",
    "superset = {1, 2, 3, 4, 5, 6}\n",
    "print(superset.issuperset(set2))  # Output: True\n",
    "\n",
    "# Check if two sets are disjoint\n",
    "disjoint_set = {7, 8, 9}\n",
    "print(set1.isdisjoint(set2))  # Output: False\n",
    "print(set2.isdisjoint(disjoint_set))  # Output: True\n"
   ]
  },
  {
   "cell_type": "markdown",
   "metadata": {},
   "source": [
    "> dictionary"
   ]
  },
  {
   "cell_type": "code",
   "execution_count": 4,
   "metadata": {},
   "outputs": [
    {
     "name": "stdout",
     "output_type": "stream",
     "text": [
      "dict_keys(['apple', 'banana', 'orange'])\n",
      "dict_values([3, 2, 1])\n",
      "dict_items([('apple', 3), ('banana', 2), ('orange', 1)])\n",
      "2\n",
      "0\n",
      "{'apple': 3, 'banana': 2, 'orange': 1, 'grape': 4}\n",
      "{'apple': 3, 'banana': 5, 'orange': 1, 'grape': 4, 'cherry': 6}\n",
      "4\n",
      "{'apple': 3, 'banana': 5, 'orange': 1, 'cherry': 6}\n",
      "{}\n"
     ]
    }
   ],
   "source": [
    "# Create a dictionary\n",
    "dictionary = {'apple': 3, 'banana': 2, 'orange': 1}\n",
    "\n",
    "# Get all keys of the dictionary\n",
    "keys = dictionary.keys()\n",
    "print(keys)  # Output: dict_keys(['apple', 'banana', 'orange'])\n",
    "\n",
    "# Get all values of the dictionary\n",
    "values = dictionary.values()\n",
    "print(values)  # Output: dict_values([3, 2, 1])\n",
    "\n",
    "# Get all key-value pairs of the dictionary as tuples\n",
    "items = dictionary.items()\n",
    "print(items)  # Output: dict_items([('apple', 3), ('banana', 2), ('orange', 1)])\n",
    "\n",
    "# Get the value associated with a key\n",
    "value = dictionary.get('banana')\n",
    "print(value)  # Output: 2\n",
    "\n",
    "# Get the value associated with a key and set a default value if the key is not found\n",
    "value = dictionary.get('grape', 0)\n",
    "print(value)  # Output: 0\n",
    "\n",
    "# Set a default value for a key if it is not found\n",
    "dictionary.setdefault('grape', 4)\n",
    "print(dictionary)  # Output: {'apple': 3, 'banana': 2, 'orange': 1, 'grape': 4}\n",
    "\n",
    "# Update the dictionary with key-value pairs from another dictionary\n",
    "dictionary2 = {'banana': 5, 'cherry': 6}\n",
    "dictionary.update(dictionary2)\n",
    "print(dictionary)  # Output: {'apple': 3, 'banana': 5, 'orange': 1, 'grape': 4, 'cherry': 6}\n",
    "\n",
    "# Remove a key-value pair from the dictionary and return the value\n",
    "value = dictionary.pop('grape')\n",
    "print(value)  # Output: 4\n",
    "print(dictionary)  # Output: {'apple': 3, 'banana': 5, 'orange': 1, 'cherry': 6}\n",
    "\n",
    "# Remove all key-value pairs from the dictionary\n",
    "dictionary.clear()\n",
    "print(dictionary)  # Output: {}\n"
   ]
  },
  {
   "cell_type": "markdown",
   "metadata": {},
   "source": [
    "> deque"
   ]
  },
  {
   "cell_type": "code",
   "execution_count": 5,
   "metadata": {},
   "outputs": [
    {
     "name": "stdout",
     "output_type": "stream",
     "text": [
      "deque([1, 2, 3, 4])\n",
      "deque([0, 1, 2, 3, 4])\n",
      "4\n",
      "deque([0, 1, 2, 3])\n",
      "0\n",
      "deque([1, 2, 3])\n",
      "deque([1, 2, 3, 4, 5, 6])\n",
      "deque([-2, -1, 0, 1, 2, 3, 4, 5, 6])\n",
      "deque([4, 5, 6, -2, -1, 0, 1, 2, 3])\n",
      "deque([])\n",
      "2\n",
      "deque([1, 2, 3, 3, 3])\n"
     ]
    }
   ],
   "source": [
    "from collections import deque\n",
    "\n",
    "# Create a deque\n",
    "deque1 = deque([1, 2, 3])\n",
    "\n",
    "# Append an element to the right end of the deque\n",
    "deque1.append(4)\n",
    "print(deque1)  # Output: deque([1, 2, 3, 4])\n",
    "\n",
    "# Append an element to the left end of the deque\n",
    "deque1.appendleft(0)\n",
    "print(deque1)  # Output: deque([0, 1, 2, 3, 4])\n",
    "\n",
    "# Remove and return an element from the right end of the deque\n",
    "element = deque1.pop()\n",
    "print(element)  # Output: 4\n",
    "print(deque1)  # Output: deque([0, 1, 2, 3])\n",
    "\n",
    "# Remove and return an element from the left end of the deque\n",
    "element = deque1.popleft()\n",
    "print(element)  # Output: 0\n",
    "print(deque1)  # Output: deque([1, 2, 3])\n",
    "\n",
    "# Extend the deque by appending elements from an iterable to the right end\n",
    "deque1.extend([4, 5, 6])\n",
    "print(deque1)  # Output: deque([1, 2, 3, 4, 5, 6])\n",
    "\n",
    "# Extend the deque by appending elements from an iterable to the left end\n",
    "deque1.extendleft([0, -1, -2])\n",
    "print(deque1)  # Output: deque([-2, -1, 0, 1, 2, 3, 4, 5, 6])\n",
    "\n",
    "# Rotate the deque n steps to the right (if n is positive) or to the left (if n is negative)\n",
    "deque1.rotate(3)\n",
    "print(deque1)  # Output: deque([4, 5, 6, -2, -1, 0, 1, 2, 3])\n",
    "\n",
    "# Remove all elements from the deque\n",
    "deque1.clear()\n",
    "print(deque1)  # Output: deque([])\n",
    "\n",
    "# Count the number of occurrences of an element in the deque\n",
    "deque2 = deque([1, 2, 2, 3, 3, 3])\n",
    "count = deque2.count(2)\n",
    "print(count)  # Output: 2\n",
    "\n",
    "# Remove the first occurrence of an element from the deque\n",
    "deque2.remove(2)\n",
    "print(deque2)  # Output: deque([1, 2, 3, 3, 3])\n"
   ]
  },
  {
   "cell_type": "markdown",
   "metadata": {},
   "source": [
    "> defaultdict"
   ]
  },
  {
   "cell_type": "code",
   "execution_count": 6,
   "metadata": {},
   "outputs": [
    {
     "name": "stdout",
     "output_type": "stream",
     "text": [
      "[]\n",
      "defaultdict(<class 'list'>, {'a': [1, 2], 'b': [3, 4], 'c': []})\n",
      "['a', 'b', 'c']\n",
      "[[1, 2], [3, 4], []]\n",
      "[('a', [1, 2]), ('b', [3, 4]), ('c', [])]\n",
      "[3, 4]\n",
      "defaultdict(<class 'list'>, {'a': [1, 2], 'c': []})\n",
      "defaultdict(<class 'list'>, {})\n"
     ]
    }
   ],
   "source": [
    "from collections import defaultdict\n",
    "\n",
    "# Create a defaultdict with the default value of an empty list\n",
    "d = defaultdict(list)\n",
    "\n",
    "# Add elements to the defaultdict\n",
    "d['a'].append(1)\n",
    "d['a'].append(2)\n",
    "d['b'].append(3)\n",
    "d['b'].append(4)\n",
    "\n",
    "# Access a key that does not exist in the defaultdict\n",
    "print(d['c'])  # Output: []\n",
    "\n",
    "# Print the defaultdict\n",
    "print(d)  # Output: defaultdict(<class 'list'>, {'a': [1, 2], 'b': [3, 4], 'c': []})\n",
    "\n",
    "# Get a list of all keys in the defaultdict\n",
    "keys = list(d.keys())\n",
    "print(keys)  # Output: ['a', 'b', 'c']\n",
    "\n",
    "# Get a list of all values in the defaultdict\n",
    "values = list(d.values())\n",
    "print(values)  # Output: [[1, 2], [3, 4], []]\n",
    "\n",
    "# Get a list of all key-value pairs in the defaultdict\n",
    "items = list(d.items())\n",
    "print(items)  # Output: [('a', [1, 2]), ('b', [3, 4]), ('c', [])]\n",
    "\n",
    "# Remove and return the value for a key from the defaultdict\n",
    "value = d.pop('b')\n",
    "print(value)  # Output: [3, 4]\n",
    "print(d)  # Output: defaultdict(<class 'list'>, {'a': [1, 2], 'c': []})\n",
    "\n",
    "# Remove all key-value pairs from the defaultdict\n",
    "d.clear()\n",
    "print(d)  # Output: defaultdict(<class 'list'>, {})\n"
   ]
  },
  {
   "cell_type": "markdown",
   "metadata": {},
   "source": [
    "> Counter"
   ]
  },
  {
   "cell_type": "code",
   "execution_count": 7,
   "metadata": {},
   "outputs": [
    {
     "name": "stdout",
     "output_type": "stream",
     "text": [
      "Counter({'b': 3, 'a': 2, 'c': 2, 'd': 1})\n",
      "3\n",
      "[('b', 3), ('a', 2)]\n",
      "Counter({'b': 5, 'a': 3, 'c': 3, 'd': 2})\n",
      "Counter({'b': 4, 'c': 3, 'a': 2, 'd': 2})\n",
      "Counter({'b': 4, 'c': 3, 'a': 2})\n",
      "Counter({'b': 4, 'c': 3, 'a': 2})\n"
     ]
    }
   ],
   "source": [
    "from collections import Counter\n",
    "\n",
    "# Create a Counter from a list of elements\n",
    "c = Counter(['a', 'b', 'c', 'a', 'b', 'b', 'c', 'd'])\n",
    "\n",
    "# Print the Counter\n",
    "print(c)  # Output: Counter({'b': 3, 'a': 2, 'c': 2, 'd': 1})\n",
    "\n",
    "# Access the count of a specific element in the Counter\n",
    "print(c['b'])  # Output: 3\n",
    "\n",
    "# Access the most common element(s) in the Counter\n",
    "most_common = c.most_common(2)\n",
    "print(most_common)  # Output: [('b', 3), ('a', 2)]\n",
    "\n",
    "# Add elements to the Counter\n",
    "c.update(['a', 'b', 'b', 'c', 'd'])\n",
    "print(c) # Counter({'b': 5, 'a': 3, 'c': 3, 'd': 2})\n",
    "\n",
    "# Subtract elements from the Counter\n",
    "c.subtract(['a', 'b'])\n",
    "print(c) # Counter({'b': 4, 'c': 3, 'a': 2, 'd': 2})\n",
    "\n",
    "# Remove elements from the Counter\n",
    "del c['d']\n",
    "print(c) # Counter({'b': 4, 'c': 3, 'a': 2})\n",
    "\n",
    "# Print the Counter\n",
    "print(c)  # Output: Counter({'b': 4, 'c': 2, 'a': 1})\n"
   ]
  },
  {
   "cell_type": "code",
   "execution_count": null,
   "metadata": {},
   "outputs": [],
   "source": []
  }
 ],
 "metadata": {
  "kernelspec": {
   "display_name": "Python 3.8.13 ('codingTest')",
   "language": "python",
   "name": "python3"
  },
  "language_info": {
   "codemirror_mode": {
    "name": "ipython",
    "version": 3
   },
   "file_extension": ".py",
   "mimetype": "text/x-python",
   "name": "python",
   "nbconvert_exporter": "python",
   "pygments_lexer": "ipython3",
   "version": "3.8.13"
  },
  "orig_nbformat": 4,
  "vscode": {
   "interpreter": {
    "hash": "e80ad6e6ae2ebc2bd866c1164dc14db38d4e1b9d88135697e21f1ea5268c05b6"
   }
  }
 },
 "nbformat": 4,
 "nbformat_minor": 2
}
