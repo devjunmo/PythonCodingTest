{
 "cells": [
  {
   "cell_type": "markdown",
   "metadata": {},
   "source": [
    "# 리스트 자료형\n",
    "\n",
    "- CRUD\n",
    "- 슬라이싱\n",
    "- 리스트 초기화\n",
    "- 리스트 컴프리핸션\n",
    "- 정렬\n",
    "- 2차원 배열 받기\n"
   ]
  },
  {
   "cell_type": "markdown",
   "metadata": {},
   "source": [
    ">CRUD"
   ]
  },
  {
   "cell_type": "markdown",
   "metadata": {},
   "source": [
    ">> Create"
   ]
  },
  {
   "cell_type": "code",
   "execution_count": 2,
   "metadata": {},
   "outputs": [
    {
     "data": {
      "text/plain": [
       "[1, 2, 3, 4, 5]"
      ]
     },
     "execution_count": 2,
     "metadata": {},
     "output_type": "execute_result"
    }
   ],
   "source": [
    "# Create an empty list using the list() function\n",
    "my_list = list()\n",
    "\n",
    "# Create a list with some elements using square brackets\n",
    "my_list = [1, 2, 3, 4, 5]\n",
    "\n",
    "my_list"
   ]
  },
  {
   "cell_type": "code",
   "execution_count": 3,
   "metadata": {},
   "outputs": [
    {
     "data": {
      "text/plain": [
       "[0, 2, 4, 6, 8, 10]"
      ]
     },
     "execution_count": 3,
     "metadata": {},
     "output_type": "execute_result"
    }
   ],
   "source": [
    "# Create a list of even numbers from 0 to 10 using list comprehension\n",
    "even_numbers = [x for x in range(0, 11, 2)]\n",
    "even_numbers"
   ]
  },
  {
   "cell_type": "markdown",
   "metadata": {},
   "source": [
    ">> Read"
   ]
  },
  {
   "cell_type": "code",
   "execution_count": 4,
   "metadata": {},
   "outputs": [
    {
     "name": "stdout",
     "output_type": "stream",
     "text": [
      "my_list = [1, 2, 3, 4, 5]\n",
      "1\n",
      "5\n",
      "[2, 3, 4]\n"
     ]
    }
   ],
   "source": [
    "print(\"my_list =\", my_list)\n",
    "\n",
    "# Read the first element of the list using indexing\n",
    "first_element = my_list[0]\n",
    "\n",
    "# Read the last element of the list using negative indexing\n",
    "last_element = my_list[-1]\n",
    "\n",
    "# Read a portion of the list using slicing\n",
    "portion_of_list = my_list[1:4]  # returns [2, 3, 4]\n",
    "\n",
    "print(first_element)\n",
    "print(last_element)\n",
    "print(portion_of_list)"
   ]
  },
  {
   "cell_type": "code",
   "execution_count": 5,
   "metadata": {},
   "outputs": [
    {
     "name": "stdout",
     "output_type": "stream",
     "text": [
      "my_list = [1, 2, 3, 4, 5]\n",
      "2\n",
      "1\n",
      "5\n"
     ]
    }
   ],
   "source": [
    "print(\"my_list =\", my_list)\n",
    "\n",
    "# 처음 3이라는 값이 나올 때의 인덱스 리턴\n",
    "index_of_element = my_list.index(3)\n",
    "\n",
    "# 3이라는 값이 몇개인지 세기\n",
    "count_of_element = my_list.count(3)\n",
    "\n",
    "# Get the length of the list\n",
    "length_of_list = len(my_list)\n",
    "\n",
    "print(index_of_element)\n",
    "print(count_of_element)\n",
    "print(length_of_list)"
   ]
  },
  {
   "cell_type": "markdown",
   "metadata": {},
   "source": [
    ">> Update\n",
    "\n",
    "- [idx]에 값 대입\n",
    "- append로 값 대입\n",
    "- insert(idx, value)로 값 대입\n",
    "- extend()로 리스트 이어붙이기"
   ]
  },
  {
   "cell_type": "code",
   "execution_count": 6,
   "metadata": {},
   "outputs": [
    {
     "name": "stdout",
     "output_type": "stream",
     "text": [
      "my_list = [1, 2, 3, 4, 5]\n",
      "my_list = [1, 2, 6, 4, 5]\n",
      "my_list = [1, 2, 6, 4, 5, 6]\n",
      "my_list = [1, 2, 7, 6, 4, 5, 6]\n",
      "my_list = [1, 2, 7, 6, 4, 5, 6, 8, 9, 10]\n"
     ]
    }
   ],
   "source": [
    "print(\"my_list =\", my_list)\n",
    "\n",
    "# Update the third element of the list using indexing\n",
    "my_list[2] = 6\n",
    "print(\"my_list =\", my_list)\n",
    "\n",
    "# Add an element to the end of the list using append()\n",
    "my_list.append(6)\n",
    "print(\"my_list =\", my_list)\n",
    "\n",
    "# Insert an element at a specified index using insert()\n",
    "my_list.insert(2, 7)\n",
    "print(\"my_list =\", my_list)\n",
    "\n",
    "# Extend the list with another list using extend()\n",
    "my_list.extend([8, 9, 10])\n",
    "print(\"my_list =\", my_list)\n"
   ]
  },
  {
   "cell_type": "markdown",
   "metadata": {},
   "source": [
    ">> Delete"
   ]
  },
  {
   "cell_type": "code",
   "execution_count": 8,
   "metadata": {},
   "outputs": [
    {
     "name": "stdout",
     "output_type": "stream",
     "text": [
      "my_list = [1, 2, 7, 6, 4, 5, 6, 8, 9, 10]\n",
      "my_list = [1, 2, 7, 4, 5, 6, 8, 9, 10]\n",
      "my_list = [1, 2, 7, 4, 5, 6, 8, 9]\n",
      "my_list = [1, 2, 4, 5, 6, 8, 9]\n",
      "my_list = []\n"
     ]
    }
   ],
   "source": [
    "print(\"my_list =\", my_list)\n",
    "\n",
    "# 6이라는 값이 처음 나올 때 지워버리기\n",
    "my_list.remove(6)\n",
    "print(\"my_list =\", my_list)\n",
    "\n",
    "# 맨 끝애꺼 리턴하면서 지우기\n",
    "last_element = my_list.pop()\n",
    "print(last_element)\n",
    "print(\"my_list =\", my_list)\n",
    "\n",
    "# 2번 인덱스의 값 지우기\n",
    "del my_list[2]\n",
    "print(\"my_list =\", my_list)\n",
    "\n",
    "# Clear all elements from the list using clear()\n",
    "my_list.clear()\n",
    "print(\"my_list =\", my_list)\n"
   ]
  },
  {
   "cell_type": "markdown",
   "metadata": {},
   "source": [
    "> 슬라이싱"
   ]
  },
  {
   "cell_type": "code",
   "execution_count": 10,
   "metadata": {},
   "outputs": [
    {
     "name": "stdout",
     "output_type": "stream",
     "text": [
      "my_list = [1, 2, 3, 4, 5]\n",
      "my_slice = [1, 2, 3]\n",
      "my_slice = [4, 5]\n",
      "my_slice = [1, 3, 5]\n",
      "my_slice = [5, 3, 1]\n"
     ]
    }
   ],
   "source": [
    "my_list = [1, 2, 3, 4, 5]\n",
    "print(\"my_list =\", my_list)\n",
    "\n",
    "# get the first three items\n",
    "my_slice = my_list[:3]\n",
    "print(\"my_slice =\", my_slice) # [1, 2, 3]\n",
    "\n",
    "# get the last two items\n",
    "my_slice = my_list[-2:]\n",
    "print(\"my_slice =\", my_slice) # [4, 5]\n",
    "\n",
    "# get every other item\n",
    "my_slice = my_list[::2]\n",
    "print(\"my_slice =\", my_slice) # [1, 3, 5]\n",
    "\n",
    "# get every other item in reverse order\n",
    "my_slice = my_list[::-2]\n",
    "print(\"my_slice =\", my_slice) # [5, 3, 1]"
   ]
  },
  {
   "cell_type": "markdown",
   "metadata": {},
   "source": [
    "> 리스트 컴프리헨션\n",
    "- 리스트 컴프리핸션의 리턴값은 리스트다!\n",
    "- [x for x in iter if ~] 구조, 맨 왼쪽의 x가 스트림 느낌으로 list에 append 된다"
   ]
  },
  {
   "cell_type": "markdown",
   "metadata": {},
   "source": [
    ">> Example 1: 조건 주기"
   ]
  },
  {
   "cell_type": "code",
   "execution_count": 11,
   "metadata": {},
   "outputs": [
    {
     "name": "stdout",
     "output_type": "stream",
     "text": [
      "[2, 4, 6, 8, 10]\n"
     ]
    }
   ],
   "source": [
    "numbers = [1, 2, 3, 4, 5, 6, 7, 8, 9, 10]\n",
    "even_numbers = [x for x in numbers if x % 2 == 0]\n",
    "print(even_numbers)  # Output: [2, 4, 6, 8, 10]"
   ]
  },
  {
   "cell_type": "markdown",
   "metadata": {},
   "source": [
    ">> Example 2: Map each element to a new value"
   ]
  },
  {
   "cell_type": "code",
   "execution_count": 12,
   "metadata": {},
   "outputs": [
    {
     "name": "stdout",
     "output_type": "stream",
     "text": [
      "[1, 4, 9, 16, 25]\n"
     ]
    }
   ],
   "source": [
    "numbers = [1, 2, 3, 4, 5]\n",
    "squares = [x**2 for x in numbers]\n",
    "print(squares)  # Output: [1, 4, 9, 16, 25]"
   ]
  },
  {
   "cell_type": "markdown",
   "metadata": {},
   "source": [
    ">> Example 3: Flatten a nested list"
   ]
  },
  {
   "cell_type": "code",
   "execution_count": 13,
   "metadata": {},
   "outputs": [
    {
     "name": "stdout",
     "output_type": "stream",
     "text": [
      "[1, 2, 3, 4, 5, 6, 7, 8, 9]\n"
     ]
    }
   ],
   "source": [
    "nested_list = [[1, 2, 3], [4, 5], [6, 7, 8, 9]]\n",
    "flat_list = [x for sublist in nested_list for x in sublist]\n",
    "print(flat_list)  # Output: [1, 2, 3, 4, 5, 6, 7, 8, 9]\n"
   ]
  },
  {
   "cell_type": "markdown",
   "metadata": {},
   "source": [
    ">> Example 4: Convert elements to a different type"
   ]
  },
  {
   "cell_type": "code",
   "execution_count": 14,
   "metadata": {},
   "outputs": [
    {
     "name": "stdout",
     "output_type": "stream",
     "text": [
      "[5, 5, 6, 4, 13]\n"
     ]
    }
   ],
   "source": [
    "words = ['hello', 'world', 'python', 'list', 'comprehension']\n",
    "lengths = [len(word) for word in words]\n",
    "print(lengths)  # Output: [5, 5, 6, 4, 13]"
   ]
  },
  {
   "cell_type": "markdown",
   "metadata": {},
   "source": [
    ">> Example 5: Create a list of tuples"
   ]
  },
  {
   "cell_type": "code",
   "execution_count": 15,
   "metadata": {},
   "outputs": [
    {
     "name": "stdout",
     "output_type": "stream",
     "text": [
      "[('Alice', 25), ('Bob', 30), ('Charlie', 35)]\n"
     ]
    }
   ],
   "source": [
    "names = ['Alice', 'Bob', 'Charlie']\n",
    "ages = [25, 30, 35]\n",
    "people = [(name, age) for name, age in zip(names, ages)]\n",
    "print(people)  # Output: [('Alice', 25), ('Bob', 30), ('Charlie', 35)]"
   ]
  },
  {
   "cell_type": "markdown",
   "metadata": {},
   "source": [
    ">>  Example 6: NxM 형태의 2차원 리스트 초기화"
   ]
  },
  {
   "cell_type": "code",
   "execution_count": 16,
   "metadata": {},
   "outputs": [
    {
     "name": "stdout",
     "output_type": "stream",
     "text": [
      "[[0]*4 for _ in range(5)]  ->  [[0, 0, 0, 0], [0, 0, 0, 0], [0, 0, 0, 0], [0, 0, 0, 0], [0, 0, 0, 0]]\n"
     ]
    }
   ],
   "source": [
    "print('[[0]*4 for _ in range(5)]  -> ', [[0]*4 for _ in range(5)]) #  5x4 형태의 2차원 리스트 초기화"
   ]
  },
  {
   "cell_type": "markdown",
   "metadata": {},
   "source": [
    ">>  Example 7: 리스트 요소 중 특정 값 모두 제거"
   ]
  },
  {
   "cell_type": "code",
   "execution_count": 17,
   "metadata": {},
   "outputs": [
    {
     "name": "stdout",
     "output_type": "stream",
     "text": [
      "[i for i in [1,2,3,4,5,5,5] if i not in {3, 4}]  ->  [1, 2, 5, 5, 5]\n"
     ]
    }
   ],
   "source": [
    "# 리스트 요소 중 특정 값 모두 제거\n",
    "print('[i for i in [1,2,3,4,5,5,5] if i not in {3, 4}]  -> ', [i for i in [1,2,3,4,5,5,5] if i not in {3, 4}])"
   ]
  },
  {
   "cell_type": "markdown",
   "metadata": {},
   "source": [
    "# 정렬\n",
    "\n",
    "- sorted()  ->  call by value\n",
    "  - NlogN 보장 (머지소트)"
   ]
  },
  {
   "cell_type": "markdown",
   "metadata": {},
   "source": [
    "> 숫자 리스트 정렬"
   ]
  },
  {
   "cell_type": "code",
   "execution_count": 19,
   "metadata": {},
   "outputs": [
    {
     "name": "stdout",
     "output_type": "stream",
     "text": [
      "[1, 2, 3, 5, 8]\n",
      "[8, 5, 3, 2, 1]\n",
      "[5, 2, 8, 1, 3]\n"
     ]
    }
   ],
   "source": [
    "numbers = [5, 2, 8, 1, 3]\n",
    "sorted_numbers = sorted(numbers)\n",
    "print(sorted_numbers)  # [1, 2, 3, 5, 8]\n",
    "\n",
    "# To sort in reverse order, you can use the reverse parameter:\n",
    "reverse_sorted_numbers = sorted(numbers, reverse=True)\n",
    "print(reverse_sorted_numbers)  # [8, 5, 3, 2, 1]\n",
    "\n",
    "print(numbers) # call by value\n"
   ]
  },
  {
   "cell_type": "markdown",
   "metadata": {},
   "source": [
    "> 문자 리스트 정렬"
   ]
  },
  {
   "cell_type": "code",
   "execution_count": 20,
   "metadata": {},
   "outputs": [
    {
     "name": "stdout",
     "output_type": "stream",
     "text": [
      "['a', 'b', 'c', 'd']\n",
      "['d', 'c', 'b', 'a']\n"
     ]
    }
   ],
   "source": [
    "letters = ['d', 'a', 'c', 'b']\n",
    "sorted_letters = sorted(letters)\n",
    "print(sorted_letters)  # ['a', 'b', 'c', 'd']\n",
    "\n",
    "reverse_sorted_letters = sorted(letters, reverse=True)\n",
    "print(reverse_sorted_letters)  # ['d', 'c', 'b', 'a']\n"
   ]
  },
  {
   "cell_type": "markdown",
   "metadata": {},
   "source": [
    "> (참고) 객체 정렬"
   ]
  },
  {
   "cell_type": "markdown",
   "metadata": {},
   "source": [
    ">> 딕셔너리로 만들어서 정렬해보기"
   ]
  },
  {
   "cell_type": "code",
   "execution_count": 21,
   "metadata": {},
   "outputs": [
    {
     "name": "stdout",
     "output_type": "stream",
     "text": [
      "[{'name': 'Bob', 'age': 20}, {'name': 'Jane', 'age': 30}, {'name': 'John', 'age': 25}]\n",
      "[{'name': 'John', 'age': 25}, {'name': 'Jane', 'age': 30}, {'name': 'Bob', 'age': 20}]\n"
     ]
    }
   ],
   "source": [
    "objects = [{'name': 'John', 'age': 25},\n",
    "            {'name': 'Jane', 'age': 30},           \n",
    "            {'name': 'Bob', 'age': 20}]\n",
    "\n",
    "sorted_objects = sorted(objects, key=lambda x: x['name'])\n",
    "print(sorted_objects)\n",
    "# [{'name': 'Bob', 'age': 20}, {'name': 'Jane', 'age': 30}, {'name': 'John', 'age': 25}]\n",
    "\n",
    "reverse_sorted_objects = sorted(objects, key=lambda x: x['name'], reverse=True)\n",
    "print(reverse_sorted_objects)\n",
    "# [{'name': 'John', 'age': 25}, {'name': 'Jane', 'age': 30}, {'name': 'Bob', 'age': 20}]\n"
   ]
  },
  {
   "cell_type": "markdown",
   "metadata": {},
   "source": [
    ">> 커스텀 클래스 만들어서 정렬해보기"
   ]
  },
  {
   "cell_type": "code",
   "execution_count": 27,
   "metadata": {},
   "outputs": [
    {
     "name": "stdout",
     "output_type": "stream",
     "text": [
      "John : 49\n",
      "John2 : 30\n",
      "John3 : 20\n",
      "John4 : 17\n"
     ]
    },
    {
     "data": {
      "text/plain": [
       "[None, None, None, None]"
      ]
     },
     "execution_count": 27,
     "metadata": {},
     "output_type": "execute_result"
    }
   ],
   "source": [
    "class Person:\n",
    "    def __init__(self, name, age):\n",
    "        self.name = name\n",
    "        self.age = age\n",
    "    \n",
    "    def __str__(self):\n",
    "        return f'{self.name} : {self.age}'\n",
    "\n",
    "person1 = Person(\"John\", 25)\n",
    "lst = [Person(\"John\", 49),Person(\"John2\", 30),Person(\"John3\", 20),Person(\"John4\", 17)]\n",
    "lst_sorted = sorted(lst, key=lambda x:x.age, reverse=True)\n",
    "\n",
    "[print(x) for x in lst_sorted]"
   ]
  },
  {
   "cell_type": "code",
   "execution_count": null,
   "metadata": {},
   "outputs": [],
   "source": []
  }
 ],
 "metadata": {
  "kernelspec": {
   "display_name": "Python 3.8.13 ('codingTest')",
   "language": "python",
   "name": "python3"
  },
  "language_info": {
   "codemirror_mode": {
    "name": "ipython",
    "version": 3
   },
   "file_extension": ".py",
   "mimetype": "text/x-python",
   "name": "python",
   "nbconvert_exporter": "python",
   "pygments_lexer": "ipython3",
   "version": "3.8.13"
  },
  "orig_nbformat": 4,
  "vscode": {
   "interpreter": {
    "hash": "e80ad6e6ae2ebc2bd866c1164dc14db38d4e1b9d88135697e21f1ea5268c05b6"
   }
  }
 },
 "nbformat": 4,
 "nbformat_minor": 2
}
