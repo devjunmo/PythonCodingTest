{
 "cells": [
  {
   "cell_type": "markdown",
   "metadata": {},
   "source": [
    "# 이분 탐색\n",
    "\n",
    "- 이분탐색\n",
    "- upper bound\n",
    "- lower bound"
   ]
  },
  {
   "cell_type": "markdown",
   "metadata": {},
   "source": [
    "> 타겟 값이 리스트에 있을 때"
   ]
  },
  {
   "cell_type": "code",
   "execution_count": 2,
   "metadata": {},
   "outputs": [
    {
     "name": "stdout",
     "output_type": "stream",
     "text": [
      "[0, 1, 2, 3, 4, 5, 6, 7, 8, 9]\n",
      "5\n",
      "6\n"
     ]
    },
    {
     "data": {
      "text/plain": [
       "'\\n결과값\\n5\\n6\\n'"
      ]
     },
     "execution_count": 2,
     "metadata": {},
     "output_type": "execute_result"
    }
   ],
   "source": [
    "from bisect import bisect_left, bisect_right\n",
    "\n",
    "nums = [4,2,3,7,8,5,6,0,1,9]\n",
    "\n",
    "nums = sorted(nums) # 먼저 정렬\n",
    "\n",
    "n = 5\n",
    "\n",
    "print(nums)\n",
    "\n",
    "print(bisect_left(nums, n)) # 타겟 값의 '인덱스' 리턴\n",
    "print(bisect_right(nums, n)) # 타겟 값의 다음 인덱스 리턴 (오른쪽 인덱스)\n",
    "\n",
    "'''\n",
    "결과값\n",
    "5\n",
    "6\n",
    "'''"
   ]
  },
  {
   "cell_type": "markdown",
   "metadata": {},
   "source": [
    "> 타겟값이 리스트에 없을 때"
   ]
  },
  {
   "cell_type": "markdown",
   "metadata": {},
   "source": [
    "없는 값이긴 한데 리스트 값들보다 클 때 -> left, right 둘 다 idx: len(lst)\n",
    "없는 값이긴 한데 리스트 값들보다 작을 때 -> left, right 둘 다 idx: 0\n",
    "\n",
    "### 정리하면 둘 다 해당 값이 들어갈 인덱스 리턴"
   ]
  },
  {
   "cell_type": "code",
   "execution_count": 5,
   "metadata": {},
   "outputs": [
    {
     "name": "stdout",
     "output_type": "stream",
     "text": [
      "[0, 1, 2, 3, 4, 5, 6, 7, 8, 9]\n",
      "10\n",
      "10\n",
      "0\n",
      "0\n"
     ]
    }
   ],
   "source": [
    "from bisect import bisect_left, bisect_right\n",
    "\n",
    "nums = [4,2,3,7,8,5,6,0,1,9]\n",
    "\n",
    "nums = sorted(nums) # 먼저 정렬\n",
    "\n",
    "n1 = 99 # 없는 값인데 큰값\n",
    "n2 = -1 # 없는 값인데 작은값\n",
    "\n",
    "print(nums)\n",
    "\n",
    "print(bisect_left(nums, n1)) # 10\n",
    "print(bisect_right(nums, n1)) # 10\n",
    "\n",
    "print(bisect_left(nums, n2)) # 0\n",
    "print(bisect_right(nums, n2)) # 0\n",
    "\n"
   ]
  },
  {
   "cell_type": "markdown",
   "metadata": {},
   "source": [
    "> 없긴 없는데 리스트 목록 값들 범위에 있을 때\n",
    "\n",
    "### 둘 다 해당 값이 들어갈 인덱스 리턴"
   ]
  },
  {
   "cell_type": "code",
   "execution_count": 8,
   "metadata": {},
   "outputs": [
    {
     "name": "stdout",
     "output_type": "stream",
     "text": [
      "[0, 1, 2, 3, 4, 5, 6, 7, 9, 10]\n",
      "8\n",
      "8\n"
     ]
    }
   ],
   "source": [
    "from bisect import bisect_left, bisect_right\n",
    "\n",
    "nums = [4,2,3,7,10,5,6,0,1,9]\n",
    "\n",
    "nums = sorted(nums) # 먼저 정렬\n",
    "\n",
    "n1 = 8 # 리스트에 없긴 한데 값의 범위에는 있는 값\n",
    "\n",
    "print(nums)\n",
    "\n",
    "print(bisect_left(nums, n1)) # 8\n",
    "print(bisect_right(nums, n1)) # 8"
   ]
  },
  {
   "cell_type": "markdown",
   "metadata": {},
   "source": [
    "> 중복 목록이 있을 때의 left, right 인덱스 구하기"
   ]
  },
  {
   "cell_type": "code",
   "execution_count": 7,
   "metadata": {},
   "outputs": [
    {
     "name": "stdout",
     "output_type": "stream",
     "text": [
      "1\n",
      "9\n"
     ]
    },
    {
     "data": {
      "text/plain": [
       "'\\n결과값\\n1\\n9\\n'"
      ]
     },
     "execution_count": 7,
     "metadata": {},
     "output_type": "execute_result"
    }
   ],
   "source": [
    "from bisect import bisect_left, bisect_right\n",
    "\n",
    "nums = [3, 5, 5, 5, 5, 5, 5, 5, 5, 6]\n",
    "n = 5\n",
    "\n",
    "print(bisect_left(nums, n)) # 1 (중복들 중에서 left값)\n",
    "print(bisect_right(nums, n)) # 9 (중복들 중에서 right값)\n",
    "\n",
    "\n",
    "'''\n",
    "결과값\n",
    "1\n",
    "9\n",
    "'''"
   ]
  },
  {
   "cell_type": "code",
   "execution_count": null,
   "metadata": {},
   "outputs": [],
   "source": []
  }
 ],
 "metadata": {
  "kernelspec": {
   "display_name": "Python 3.9.6 64-bit",
   "language": "python",
   "name": "python3"
  },
  "language_info": {
   "codemirror_mode": {
    "name": "ipython",
    "version": 3
   },
   "file_extension": ".py",
   "mimetype": "text/x-python",
   "name": "python",
   "nbconvert_exporter": "python",
   "pygments_lexer": "ipython3",
   "version": "3.9.6"
  },
  "orig_nbformat": 4,
  "vscode": {
   "interpreter": {
    "hash": "31f2aee4e71d21fbe5cf8b01ff0e069b9275f58929596ceb00d14d90e3e16cd6"
   }
  }
 },
 "nbformat": 4,
 "nbformat_minor": 2
}
