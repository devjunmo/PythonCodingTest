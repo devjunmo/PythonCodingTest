{
 "cells": [
  {
   "cell_type": "markdown",
   "metadata": {},
   "source": [
    "# 우선순위 큐"
   ]
  },
  {
   "cell_type": "markdown",
   "metadata": {},
   "source": [
    "> heapq를 import한 후, 일반 리스트를 heapq가 관리\n",
    "\n",
    "- 넣기: heapq.heappush(lst, value) \n",
    "- 빼기: heapq.heappop(lst)"
   ]
  },
  {
   "cell_type": "code",
   "execution_count": 3,
   "metadata": {},
   "outputs": [
    {
     "name": "stdout",
     "output_type": "stream",
     "text": [
      "[1, 2, 4, 3]\n",
      "1\n",
      "[2, 3, 4]\n"
     ]
    }
   ],
   "source": [
    "import heapq\n",
    "\n",
    "# Create an empty priority queue\n",
    "pq = []\n",
    "\n",
    "# Add elements to the priority queue\n",
    "heapq.heappush(pq, 3)\n",
    "heapq.heappush(pq, 1)\n",
    "heapq.heappush(pq, 4)\n",
    "heapq.heappush(pq, 2)\n",
    "print(pq)\n",
    "\n",
    "# Get the smallest element from the priority queue\n",
    "smallest = heapq.heappop(pq)\n",
    "print(smallest)  # Output: 1\n",
    "print(pq)\n"
   ]
  },
  {
   "cell_type": "markdown",
   "metadata": {},
   "source": [
    "> 객체에 우선순위큐 적용"
   ]
  },
  {
   "cell_type": "code",
   "execution_count": 14,
   "metadata": {},
   "outputs": [
    {
     "name": "stdout",
     "output_type": "stream",
     "text": [
      "Charlie (20)\n",
      "Alice (25)\n",
      "Bob (30)\n",
      "Dave (35)\n"
     ]
    }
   ],
   "source": [
    "class Person:\n",
    "    def __init__(self, name, age):\n",
    "        self.name = name\n",
    "        self.age = age\n",
    "\n",
    "    def __str__(self):\n",
    "        return f\"{self.name} ({self.age})\"\n",
    "\n",
    "def age_comparator(person):\n",
    "    return person.age\n",
    "\n",
    "class PriorityQueue:\n",
    "    def __init__(self):\n",
    "        self._heap = []\n",
    "\n",
    "    def push(self, item):\n",
    "        heapq.heappush(self._heap, (age_comparator(item), item))\n",
    "\n",
    "    def pop(self):\n",
    "        _, item = heapq.heappop(self._heap)\n",
    "        return item\n",
    "\n",
    "    def peek(self):\n",
    "        _, item = self._heap[0]\n",
    "        return item\n",
    "\n",
    "    def __len__(self):\n",
    "        return len(self._heap)\n",
    "\n",
    "# Example usage\n",
    "pq = PriorityQueue()\n",
    "pq.push(Person(\"Alice\", 25))\n",
    "pq.push(Person(\"Bob\", 30))\n",
    "pq.push(Person(\"Charlie\", 20))\n",
    "pq.push(Person(\"Dave\", 35))\n",
    "\n",
    "print(pq.pop()) # Output: Charlie (20)\n",
    "print(pq.pop()) # Output: Alice (25)\n",
    "print(pq.pop()) # Output: Bob (30)\n",
    "print(pq.pop()) # Output: Dave (35)\n"
   ]
  },
  {
   "cell_type": "markdown",
   "metadata": {},
   "source": [
    "> 최대힙"
   ]
  },
  {
   "cell_type": "code",
   "execution_count": 10,
   "metadata": {},
   "outputs": [
    {
     "name": "stdout",
     "output_type": "stream",
     "text": [
      "[-10, -4, -9, -2, -1, -5]\n"
     ]
    },
    {
     "data": {
      "text/plain": [
       "[-9, -4, -5, -2, -1]"
      ]
     },
     "execution_count": 10,
     "metadata": {},
     "output_type": "execute_result"
    }
   ],
   "source": [
    "import heapq\n",
    "\n",
    "class PriorityQueue:\n",
    "    def __init__(self, max_heap):\n",
    "        self._heap = [-i for i in max_heap]\n",
    "        heapq.heapify(self._heap) # 미리 생성된 리스트를 힙으로 만들어주는 메소드\n",
    "\n",
    "    def push(self, item):\n",
    "        heapq.heappush(self._heap, -item) # max heap 이므로 item에 음수 붙여줌\n",
    "\n",
    "    def pop(self):\n",
    "        return -heapq.heappop(self._heap)\n",
    "\n",
    "    def peek(self):\n",
    "        return -self._heap[0]\n",
    "\n",
    "    def __len__(self):\n",
    "        return len(self._heap)\n",
    "\n",
    "lst = [1, 4, 5,2,10,9]\n",
    "\n",
    "pq = PriorityQueue(lst) \n",
    "\n",
    "print(pq._heap) # [-10, -4, -9, -2, -1, -5]\n",
    "\n",
    "pq.peek() # 10\n",
    "pq.pop() # 10\n",
    "pq._heap # [-9, -4, -5, -2, -1]\n"
   ]
  },
  {
   "cell_type": "markdown",
   "metadata": {},
   "source": [
    "> Example 1: Find the k_th largest element in an array"
   ]
  },
  {
   "cell_type": "code",
   "execution_count": 7,
   "metadata": {},
   "outputs": [
    {
     "name": "stdout",
     "output_type": "stream",
     "text": [
      "4\n"
     ]
    }
   ],
   "source": [
    "import heapq\n",
    "\n",
    "def find_kth_largest(nums, k):\n",
    "    pq = []\n",
    "    for num in nums:\n",
    "        heapq.heappush(pq, num)\n",
    "        if len(pq) > k:\n",
    "            heapq.heappop(pq)\n",
    "    return pq[0]\n",
    "\n",
    "nums = [3, 1, 4, 2, 5]\n",
    "k = 2\n",
    "kth_largest = find_kth_largest(nums, k)\n",
    "print(kth_largest)  # Output: 4\n"
   ]
  },
  {
   "cell_type": "markdown",
   "metadata": {},
   "source": [
    ">> Example 2: Merge k sorted arrays"
   ]
  },
  {
   "cell_type": "code",
   "execution_count": 8,
   "metadata": {},
   "outputs": [
    {
     "name": "stdout",
     "output_type": "stream",
     "text": [
      "[1, 2, 3, 4, 5, 6, 7, 8, 9]\n"
     ]
    }
   ],
   "source": [
    "import heapq\n",
    "\n",
    "def merge_k_sorted_arrays(arrays):\n",
    "    pq = []\n",
    "    for i, arr in enumerate(arrays):\n",
    "        if arr:\n",
    "            heapq.heappush(pq, (arr[0], i, 0))\n",
    "    result = []\n",
    "    while pq:\n",
    "        val, i, j = heapq.heappop(pq)\n",
    "        result.append(val)\n",
    "        if j + 1 < len(arrays[i]):\n",
    "            heapq.heappush(pq, (arrays[i][j+1], i, j+1))\n",
    "    return result\n",
    "\n",
    "arrays = [[1, 4, 7], [2, 5, 8], [3, 6, 9]]\n",
    "merged = merge_k_sorted_arrays(arrays)\n",
    "print(merged)  # Output: [1, 2, 3, 4, 5, 6, 7, 8, 9]\n"
   ]
  },
  {
   "cell_type": "code",
   "execution_count": null,
   "metadata": {},
   "outputs": [],
   "source": []
  }
 ],
 "metadata": {
  "kernelspec": {
   "display_name": "Python 3.8.13 ('codingTest')",
   "language": "python",
   "name": "python3"
  },
  "language_info": {
   "codemirror_mode": {
    "name": "ipython",
    "version": 3
   },
   "file_extension": ".py",
   "mimetype": "text/x-python",
   "name": "python",
   "nbconvert_exporter": "python",
   "pygments_lexer": "ipython3",
   "version": "3.8.13"
  },
  "orig_nbformat": 4,
  "vscode": {
   "interpreter": {
    "hash": "e80ad6e6ae2ebc2bd866c1164dc14db38d4e1b9d88135697e21f1ea5268c05b6"
   }
  }
 },
 "nbformat": 4,
 "nbformat_minor": 2
}
